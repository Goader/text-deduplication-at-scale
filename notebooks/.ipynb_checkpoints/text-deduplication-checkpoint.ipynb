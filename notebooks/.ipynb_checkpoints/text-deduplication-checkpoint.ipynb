{
 "cells": [
  {
   "cell_type": "markdown",
   "id": "6e6dc674",
   "metadata": {},
   "source": [
    "# Text Deduplicating using Apache Spark"
   ]
  },
  {
   "cell_type": "code",
   "execution_count": 11,
   "id": "5d12a768",
   "metadata": {},
   "outputs": [
    {
     "data": {
      "text/html": [
       "\n",
       "            <div>\n",
       "                <p><b>SparkSession - in-memory</b></p>\n",
       "                \n",
       "        <div>\n",
       "            <p><b>SparkContext</b></p>\n",
       "\n",
       "            <p><a href=\"http://192.168.240.99:4040\">Spark UI</a></p>\n",
       "\n",
       "            <dl>\n",
       "              <dt>Version</dt>\n",
       "                <dd><code>v3.3.2</code></dd>\n",
       "              <dt>Master</dt>\n",
       "                <dd><code>local[*]</code></dd>\n",
       "              <dt>AppName</dt>\n",
       "                <dd><code>pyspark-shell</code></dd>\n",
       "            </dl>\n",
       "        </div>\n",
       "        \n",
       "            </div>\n",
       "        "
      ],
      "text/plain": [
       "<pyspark.sql.session.SparkSession at 0x7f0b297a8100>"
      ]
     },
     "execution_count": 11,
     "metadata": {},
     "output_type": "execute_result"
    }
   ],
   "source": [
    "from pyspark.sql import SparkSession\n",
    "from pyspark.sql import functions as F\n",
    "spark = SparkSession.builder.getOrCreate()\n",
    "sc = spark.sparkContext\n",
    "spark"
   ]
  },
  {
   "cell_type": "markdown",
   "id": "747978ef",
   "metadata": {},
   "source": [
    "## Loading data"
   ]
  },
  {
   "cell_type": "code",
   "execution_count": 12,
   "id": "cb231f49",
   "metadata": {},
   "outputs": [],
   "source": [
    "from datasets import load_dataset"
   ]
  },
  {
   "cell_type": "code",
   "execution_count": 9,
   "id": "a00f68fb",
   "metadata": {},
   "outputs": [],
   "source": [
    "rows = 1000\n",
    "cc100 = load_dataset(\n",
    "    'cc100',\n",
    "    lang='uk',\n",
    "    split='train',\n",
    "    streaming=True,\n",
    ").take(rows)"
   ]
  },
  {
   "cell_type": "code",
   "execution_count": 13,
   "id": "180013b1",
   "metadata": {},
   "outputs": [],
   "source": [
    "cc100_rdd = sc.parallelize(cc100, numSlices=5)"
   ]
  },
  {
   "cell_type": "code",
   "execution_count": 17,
   "id": "082c3ae7",
   "metadata": {},
   "outputs": [
    {
     "data": {
      "text/plain": [
       "[{'id': '0', 'text': \"5-Б клас гімназії №3 «СУЗІР'Я»\\n\"},\n",
       " {'id': '1', 'text': 'ПОСИЛАННЯ (наукові сайти)\\n'},\n",
       " {'id': '2', 'text': 'ПОСИЛАННЯ (виховна робота)\\n'},\n",
       " {'id': '3',\n",
       "  'text': 'ПОСИЛАННЯ (Інтернет-ресурси України і Запорізького регіону)\\n'},\n",
       " {'id': '4',\n",
       "  'text': 'ПОСИЛАННЯ (контактна інф. органів виконавчої влади України)\\n'},\n",
       " {'id': '5',\n",
       "  'text': 'ПОСИЛАННЯ (телефонні \"гарячі лінії\" міністерств України)\\n'},\n",
       " {'id': '6',\n",
       "  'text': 'ПОСИЛАННЯ (громадянам України /довідкова інформація/)\\n'},\n",
       " {'id': '7', 'text': 'Про організацію навчально-виховного процесу\\n'},\n",
       " {'id': '8', 'text': 'Про децентралізацію у загальній середній освіті\\n'},\n",
       " {'id': '9',\n",
       "  'text': 'Учням 1-4 класів спрощено систему навчання (наказ МОН)\\n'},\n",
       " {'id': '10', 'text': 'Про розвиток української мови в Запорізькій області\\n'},\n",
       " {'id': '11', 'text': 'Навчальні програми для 1-4 класів\\n'},\n",
       " {'id': '12',\n",
       "  'text': 'Практичний психолог і соціальний педагог навчального закладу\\n'},\n",
       " {'id': '13', 'text': 'Декларація прав дитини\\n'},\n",
       " {'id': '14', 'text': 'Конвенція ООН про права дитини\\n'},\n",
       " {'id': '15', 'text': 'ЗАКОН УКРАЇНИ \"Про державну допомогу\"\\n'},\n",
       " {'id': '16', 'text': 'ЗАКОН УКРАЇНИ \"Про державну соціальну допомогу\"\\n'},\n",
       " {'id': '17', 'text': 'ЗАКОН УКРАЇНИ \"Про освіту\"\\n'},\n",
       " {'id': '18', 'text': 'Порядок призначення і виплати допомоги\\n'},\n",
       " {'id': '19', 'text': 'Зимові канікули\\n'}]"
      ]
     },
     "execution_count": 17,
     "metadata": {},
     "output_type": "execute_result"
    }
   ],
   "source": [
    "cc100_rdd.take(20)"
   ]
  },
  {
   "cell_type": "markdown",
   "id": "3d3e9ed3",
   "metadata": {},
   "source": [
    "## Minhash"
   ]
  },
  {
   "cell_type": "code",
   "execution_count": 18,
   "id": "1bb8dfa9",
   "metadata": {},
   "outputs": [],
   "source": [
    "def embed(text):\n",
    "    pass"
   ]
  },
  {
   "cell_type": "code",
   "execution_count": null,
   "id": "5913831c",
   "metadata": {},
   "outputs": [],
   "source": [
    "cc100_embedded = cc100_rdd.map(embed)"
   ]
  },
  {
   "cell_type": "code",
   "execution_count": null,
   "id": "7af140dc",
   "metadata": {},
   "outputs": [],
   "source": [
    "cc100_embedded.take(20)"
   ]
  },
  {
   "cell_type": "markdown",
   "id": "8172afb6",
   "metadata": {},
   "source": [
    "## Local Sensitivity Hash"
   ]
  },
  {
   "cell_type": "code",
   "execution_count": 19,
   "id": "8973fd3f",
   "metadata": {},
   "outputs": [
    {
     "ename": "SyntaxError",
     "evalue": "invalid syntax (2023213996.py, line 1)",
     "output_type": "error",
     "traceback": [
      "\u001b[0;36m  Cell \u001b[0;32mIn[19], line 1\u001b[0;36m\u001b[0m\n\u001b[0;31m    def lsh(???):\u001b[0m\n\u001b[0m            ^\u001b[0m\n\u001b[0;31mSyntaxError\u001b[0m\u001b[0;31m:\u001b[0m invalid syntax\n"
     ]
    }
   ],
   "source": [
    "def lsh(???):\n",
    "    pass"
   ]
  },
  {
   "cell_type": "code",
   "execution_count": null,
   "id": "83ef86bb",
   "metadata": {},
   "outputs": [],
   "source": [
    "cc100_bucketed = cc100_embedded.map(lsh).groupBy(...) ???"
   ]
  },
  {
   "cell_type": "markdown",
   "id": "aa4b4ee5",
   "metadata": {},
   "source": [
    "## Duplicates"
   ]
  },
  {
   "cell_type": "code",
   "execution_count": 20,
   "id": "ce99e797",
   "metadata": {},
   "outputs": [
    {
     "name": "stdout",
     "output_type": "stream",
     "text": [
      "Object `?` not found.\n"
     ]
    }
   ],
   "source": [
    "???"
   ]
  },
  {
   "cell_type": "code",
   "execution_count": null,
   "id": "d1817b98",
   "metadata": {},
   "outputs": [],
   "source": []
  }
 ],
 "metadata": {
  "kernelspec": {
   "display_name": "main",
   "language": "python",
   "name": "main"
  },
  "language_info": {
   "codemirror_mode": {
    "name": "ipython",
    "version": 3
   },
   "file_extension": ".py",
   "mimetype": "text/x-python",
   "name": "python",
   "nbconvert_exporter": "python",
   "pygments_lexer": "ipython3",
   "version": "3.10.12"
  }
 },
 "nbformat": 4,
 "nbformat_minor": 5
}
