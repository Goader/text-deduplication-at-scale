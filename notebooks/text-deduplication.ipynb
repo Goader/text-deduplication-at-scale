{
 "cells": [
  {
   "cell_type": "markdown",
   "id": "99050892",
   "metadata": {},
   "source": [
    "# Text Deduplicating using Apache Spark"
   ]
  },
  {
   "cell_type": "code",
   "execution_count": 1,
   "id": "28a14549",
   "metadata": {},
   "outputs": [
    {
     "name": "stdout",
     "output_type": "stream",
     "text": [
      "24/01/08 00:59:00 WARN Utils: Your hostname, andromeda resolves to a loopback address: 127.0.1.1; using 192.168.240.99 instead (on interface enp8s0f1)\n",
      "24/01/08 00:59:00 WARN Utils: Set SPARK_LOCAL_IP if you need to bind to another address\n"
     ]
    },
    {
     "name": "stderr",
     "output_type": "stream",
     "text": [
      "Setting default log level to \"WARN\".\n",
      "To adjust logging level use sc.setLogLevel(newLevel). For SparkR, use setLogLevel(newLevel).\n"
     ]
    },
    {
     "name": "stdout",
     "output_type": "stream",
     "text": [
      "24/01/08 00:59:00 WARN NativeCodeLoader: Unable to load native-hadoop library for your platform... using builtin-java classes where applicable\n"
     ]
    },
    {
     "data": {
      "text/html": [
       "\n",
       "            <div>\n",
       "                <p><b>SparkSession - in-memory</b></p>\n",
       "                \n",
       "        <div>\n",
       "            <p><b>SparkContext</b></p>\n",
       "\n",
       "            <p><a href=\"http://192.168.240.99:4040\">Spark UI</a></p>\n",
       "\n",
       "            <dl>\n",
       "              <dt>Version</dt>\n",
       "                <dd><code>v3.3.2</code></dd>\n",
       "              <dt>Master</dt>\n",
       "                <dd><code>local[*]</code></dd>\n",
       "              <dt>AppName</dt>\n",
       "                <dd><code>pyspark-shell</code></dd>\n",
       "            </dl>\n",
       "        </div>\n",
       "        \n",
       "            </div>\n",
       "        "
      ],
      "text/plain": [
       "<pyspark.sql.session.SparkSession at 0x7f1870518ac0>"
      ]
     },
     "execution_count": 1,
     "metadata": {},
     "output_type": "execute_result"
    }
   ],
   "source": [
    "from pyspark.sql import SparkSession\n",
    "from pyspark.sql import functions as F\n",
    "spark = SparkSession.builder.getOrCreate()\n",
    "sc = spark.sparkContext\n",
    "spark"
   ]
  },
  {
   "cell_type": "markdown",
   "id": "ff77dded",
   "metadata": {},
   "source": [
    "## Loading data"
   ]
  },
  {
   "cell_type": "code",
   "execution_count": 2,
   "id": "db1d2b9d",
   "metadata": {},
   "outputs": [],
   "source": [
    "from datasets import load_dataset"
   ]
  },
  {
   "cell_type": "code",
   "execution_count": 3,
   "id": "d51f9307",
   "metadata": {},
   "outputs": [],
   "source": [
    "rows = 1000\n",
    "cc100 = load_dataset(\n",
    "    'cc100',\n",
    "    lang='uk',\n",
    "    split='train',\n",
    "    streaming=True,\n",
    ").take(rows)"
   ]
  },
  {
   "cell_type": "code",
   "execution_count": 4,
   "id": "b356dfc3",
   "metadata": {},
   "outputs": [],
   "source": [
    "cc100_rdd = sc.parallelize(cc100, numSlices=5)"
   ]
  },
  {
   "cell_type": "code",
   "execution_count": 5,
   "id": "028f8292",
   "metadata": {},
   "outputs": [
    {
     "name": "stderr",
     "output_type": "stream",
     "text": [
      "                                                                                \r"
     ]
    },
    {
     "data": {
      "text/plain": [
       "[{'id': '0', 'text': \"5-Б клас гімназії №3 «СУЗІР'Я»\\n\"},\n",
       " {'id': '1', 'text': 'ПОСИЛАННЯ (наукові сайти)\\n'},\n",
       " {'id': '2', 'text': 'ПОСИЛАННЯ (виховна робота)\\n'},\n",
       " {'id': '3',\n",
       "  'text': 'ПОСИЛАННЯ (Інтернет-ресурси України і Запорізького регіону)\\n'},\n",
       " {'id': '4',\n",
       "  'text': 'ПОСИЛАННЯ (контактна інф. органів виконавчої влади України)\\n'},\n",
       " {'id': '5',\n",
       "  'text': 'ПОСИЛАННЯ (телефонні \"гарячі лінії\" міністерств України)\\n'},\n",
       " {'id': '6',\n",
       "  'text': 'ПОСИЛАННЯ (громадянам України /довідкова інформація/)\\n'},\n",
       " {'id': '7', 'text': 'Про організацію навчально-виховного процесу\\n'},\n",
       " {'id': '8', 'text': 'Про децентралізацію у загальній середній освіті\\n'},\n",
       " {'id': '9',\n",
       "  'text': 'Учням 1-4 класів спрощено систему навчання (наказ МОН)\\n'},\n",
       " {'id': '10', 'text': 'Про розвиток української мови в Запорізькій області\\n'},\n",
       " {'id': '11', 'text': 'Навчальні програми для 1-4 класів\\n'},\n",
       " {'id': '12',\n",
       "  'text': 'Практичний психолог і соціальний педагог навчального закладу\\n'},\n",
       " {'id': '13', 'text': 'Декларація прав дитини\\n'},\n",
       " {'id': '14', 'text': 'Конвенція ООН про права дитини\\n'},\n",
       " {'id': '15', 'text': 'ЗАКОН УКРАЇНИ \"Про державну допомогу\"\\n'},\n",
       " {'id': '16', 'text': 'ЗАКОН УКРАЇНИ \"Про державну соціальну допомогу\"\\n'},\n",
       " {'id': '17', 'text': 'ЗАКОН УКРАЇНИ \"Про освіту\"\\n'},\n",
       " {'id': '18', 'text': 'Порядок призначення і виплати допомоги\\n'},\n",
       " {'id': '19', 'text': 'Зимові канікули\\n'}]"
      ]
     },
     "execution_count": 5,
     "metadata": {},
     "output_type": "execute_result"
    }
   ],
   "source": [
    "cc100_rdd.take(20)"
   ]
  },
  {
   "cell_type": "markdown",
   "id": "ac182a67",
   "metadata": {},
   "source": [
    "## Minhash"
   ]
  },
  {
   "cell_type": "code",
   "execution_count": 6,
   "id": "dae27637",
   "metadata": {},
   "outputs": [],
   "source": [
    "from typing import Callable\n",
    "import hashlib\n",
    "import struct\n",
    "import re\n",
    "\n",
    "import numpy as np"
   ]
  },
  {
   "cell_type": "code",
   "execution_count": 7,
   "id": "fade54d9",
   "metadata": {},
   "outputs": [],
   "source": [
    "MAX_HASH = np.uint64((1 << 32) - 1)\n",
    "MERSENNE_PRIME = np.uint64((1 << 61) - 1)"
   ]
  },
  {
   "cell_type": "code",
   "execution_count": 8,
   "id": "e0247305",
   "metadata": {},
   "outputs": [],
   "source": [
    "def tokenize(text: str) -> list[str]:\n",
    "    return [token for token in re.split(r'\\W+', text) if token]"
   ]
  },
  {
   "cell_type": "code",
   "execution_count": 9,
   "id": "75fa5e8c",
   "metadata": {},
   "outputs": [],
   "source": [
    "def ngrams(tokens: list[str], n: int) -> list[tuple[str]]:\n",
    "    if n > len(tokens):\n",
    "        return []\n",
    "    \n",
    "    _ngrams = []\n",
    "    for i in range(len(tokens) - n + 1):\n",
    "        _ngrams.append(tuple(tokens[i:i+n]))\n",
    "    return _ngrams"
   ]
  },
  {
   "cell_type": "code",
   "execution_count": 10,
   "id": "93f1425d",
   "metadata": {},
   "outputs": [
    {
     "data": {
      "text/plain": [
       "[('hello', 'world'),\n",
       " ('world', 'we'),\n",
       " ('we', 'are'),\n",
       " ('are', 'going'),\n",
       " ('going', 'to'),\n",
       " ('to', 'test'),\n",
       " ('test', 'ngrams'),\n",
       " ('ngrams', 'splitting')]"
      ]
     },
     "execution_count": 10,
     "metadata": {},
     "output_type": "execute_result"
    }
   ],
   "source": [
    "ngrams(tokenize(\"!hello world, we are going to test ngrams splitting!\"), n=2)"
   ]
  },
  {
   "cell_type": "code",
   "execution_count": 11,
   "id": "2d13b962",
   "metadata": {},
   "outputs": [],
   "source": [
    "def init_permutations(num_perm: int, seed: int = 0) -> tuple[np.ndarray, np.ndarray]:\n",
    "    gen = np.random.RandomState(seed)\n",
    "    return (\n",
    "        gen.randint(1, MERSENNE_PRIME, size=num_perm, dtype=np.uint64),\n",
    "        gen.randint(0, MERSENNE_PRIME, size=num_perm, dtype=np.uint64)\n",
    "    )"
   ]
  },
  {
   "cell_type": "code",
   "execution_count": 12,
   "id": "b5a188ec",
   "metadata": {},
   "outputs": [],
   "source": [
    "def hash_func(payload: bytes):\n",
    "    return struct.unpack('<I', hashlib.sha1(payload).digest()[:4])[0]"
   ]
  },
  {
   "cell_type": "code",
   "execution_count": 13,
   "id": "fb7c9ea5",
   "metadata": {},
   "outputs": [],
   "source": [
    "def embed(\n",
    "    entry: dict,\n",
    "    ngram_size: int,\n",
    "    hash_func: Callable,\n",
    "    permutations: np.ndarray\n",
    ") -> np.ndarray:\n",
    "    \n",
    "    text = entry['text']\n",
    "    \n",
    "    # shape each: (num_perm,)\n",
    "    a, b = permutations\n",
    "    num_perm = a.shape[0]\n",
    "    tokens = tokenize(text)\n",
    "    \n",
    "    # shape: (ngrams,)\n",
    "    hashvalues = np.array([\n",
    "        hash_func(' '.join(ngram_tokens).encode('utf-8'))\n",
    "        for ngram_tokens in ngrams(tokens, ngram_size)\n",
    "    ], dtype=np.uint64)\n",
    "    \n",
    "    # output shape: (ngrams, num_perm)\n",
    "    signature_per_ngram = np.bitwise_and(\n",
    "        (np.outer(hashvalues, a) + b) % MERSENNE_PRIME,\n",
    "        MAX_HASH\n",
    "    )\n",
    "    \n",
    "    masks = np.full(shape=num_perm, dtype=np.uint64, fill_value=MAX_HASH)\n",
    "    \n",
    "    signature = np.vstack((signature_per_ngram, masks)).min(axis=0)\n",
    "    return {\"id\": entry[\"id\"], \"signature\": signature}"
   ]
  },
  {
   "cell_type": "code",
   "execution_count": 14,
   "id": "4ed7e401",
   "metadata": {},
   "outputs": [],
   "source": [
    "permutations = init_permutations(num_perm=32)"
   ]
  },
  {
   "cell_type": "code",
   "execution_count": 15,
   "id": "a591becc",
   "metadata": {},
   "outputs": [
    {
     "data": {
      "text/plain": [
       "{'id': 'a1',\n",
       " 'signature': array([ 233880495, 1790894235,  202142312,  655645340,  948344410,\n",
       "         808589115,  186933008,  311201738,  115794231,  662775714,\n",
       "          86100601,  540493554,   95405598,  267980497, 1069398562,\n",
       "          82106972, 1655492649,   52210820, 1570493133,  703051650,\n",
       "         144122945, 1479076262,   53265824,  270343758,   24204102,\n",
       "          33557877,  645627348,  287501491,  232856318,  107996767,\n",
       "        1588273853,  153499437], dtype=uint64)}"
      ]
     },
     "execution_count": 15,
     "metadata": {},
     "output_type": "execute_result"
    }
   ],
   "source": [
    "a1 = embed(\n",
    "    {\n",
    "        \"id\": \"a1\",\n",
    "        \"text\": \"hello world, we are going to test ngrams splitting!\"\n",
    "    },\n",
    "    2,\n",
    "    hash_func,\n",
    "    permutations\n",
    ")\n",
    "a1"
   ]
  },
  {
   "cell_type": "code",
   "execution_count": 16,
   "id": "7cb31aa3",
   "metadata": {},
   "outputs": [
    {
     "data": {
      "text/plain": [
       "{'id': 'a2',\n",
       " 'signature': array([ 233880495,  530117518,  812736762,  655645340, 1415361717,\n",
       "         336754984,  186933008,  161821783,  750602565,  747642867,\n",
       "          64588450,  388555747,   95405598,   12570438,  479281602,\n",
       "         446652527, 1854945348,   52210820,  518797166,  703051650,\n",
       "        1063784949, 1123812759,   53265824,  270343758,   24204102,\n",
       "          33557877,  987344689,  304637770,  232856318, 1423976841,\n",
       "        1022681342,  314905519], dtype=uint64)}"
      ]
     },
     "execution_count": 16,
     "metadata": {},
     "output_type": "execute_result"
    }
   ],
   "source": [
    "a2 = embed(\n",
    "    {\n",
    "        \"id\": \"a2\",\n",
    "        \"text\": \"hello world, what about we test ngrams splitting!\"\n",
    "    },\n",
    "    2,\n",
    "    hash_func,\n",
    "    permutations\n",
    ")\n",
    "a2"
   ]
  },
  {
   "cell_type": "code",
   "execution_count": 17,
   "id": "a15b73e4",
   "metadata": {},
   "outputs": [
    {
     "data": {
      "text/plain": [
       "0.34375"
      ]
     },
     "execution_count": 17,
     "metadata": {},
     "output_type": "execute_result"
    }
   ],
   "source": [
    "np.count_nonzero(a1['signature'] == a2['signature']) / 32"
   ]
  },
  {
   "cell_type": "markdown",
   "id": "8d8d46da",
   "metadata": {},
   "source": [
    "---"
   ]
  },
  {
   "cell_type": "code",
   "execution_count": 18,
   "id": "c6468966",
   "metadata": {},
   "outputs": [],
   "source": [
    "from functools import partial"
   ]
  },
  {
   "cell_type": "code",
   "execution_count": 19,
   "id": "35e03e35",
   "metadata": {},
   "outputs": [],
   "source": [
    "cc100_embedded = cc100_rdd.map(\n",
    "    partial(\n",
    "        embed,\n",
    "        ngram_size=2,\n",
    "        hash_func=hash_func,\n",
    "        permutations=permutations\n",
    "    )\n",
    ")"
   ]
  },
  {
   "cell_type": "code",
   "execution_count": 20,
   "id": "4e390c65",
   "metadata": {
    "scrolled": false
   },
   "outputs": [
    {
     "data": {
      "text/plain": [
       "[{'id': '0',\n",
       "  'signature': array([ 443099278, 1902230491,  400808915,  632125985,  712493998,\n",
       "          211675878,  178638339,  248196949,  725912459,  761080947,\n",
       "          458425793,  523973521,  830357500,  284530911, 1119222011,\n",
       "           85359596, 1568075707,  148583629,   50368138,  348143240,\n",
       "         1563055107,  575197625,  359488729,  319597852, 1091967692,\n",
       "          488626365, 1683174590, 1129833888,   57517324,  509923556,\n",
       "         1487974346,  460568138], dtype=uint64)},\n",
       " {'id': '1',\n",
       "  'signature': array([  76171711,   25084861,  367387321,  913353708, 1486430108,\n",
       "          177687564,  583314983,  169761035,  927951015,  398857155,\n",
       "          495485259,  740783294, 2448683780, 1861502244, 1352887525,\n",
       "          398463736, 3827733729, 1965012471, 2667796076, 2521359723,\n",
       "         2891046593,  897208591,  253404536, 1222524544, 2771146346,\n",
       "         1575795916,  688568419,  282769784, 1110845084, 2796036938,\n",
       "         2121931771, 1040502586], dtype=uint64)},\n",
       " {'id': '2',\n",
       "  'signature': array([3255274431, 1074691042, 3280071600, 1098078390, 2243141188,\n",
       "          303970075, 3480461526, 2109622779,  114562693, 1265194623,\n",
       "          898447257,  336243345, 2727932597, 1426892254, 2120092190,\n",
       "         1385982936, 1065865283, 1277587201,   74541325,  948996814,\n",
       "         1641362529,  233402203, 2713403227, 2849848981, 3369991531,\n",
       "         1125182282, 1548899495,  813787899, 1572236372, 2234771118,\n",
       "         2322135220, 1161943013], dtype=uint64)},\n",
       " {'id': '3',\n",
       "  'signature': array([ 326952881,  340493147,  414879161,  894100098,  277837817,\n",
       "          545042858, 1061242129,  617872280, 1025564943, 1235882169,\n",
       "          342295011,  655562818,  508313672,   67773219,  767084456,\n",
       "          369280856,  847766035,  641382961,  200555418,  303809986,\n",
       "          717491129,   74050354, 1570164521,    5827099,   41387726,\n",
       "          584193215,  441858439,  100725299,  134225691, 1532240832,\n",
       "          404685180, 1513298097], dtype=uint64)},\n",
       " {'id': '4',\n",
       "  'signature': array([ 832155645, 1373071386, 1575660590,  765875349,  405045285,\n",
       "         1146392193,  635636216,   93563763,  713719942,  177413040,\n",
       "          252204300, 1077460706,  392996503,  466785026,  582463052,\n",
       "         1095070035,  536614233,  884307336,   98832526,  123438626,\n",
       "         1647339298,  223863234, 1791172193, 1061872058,  387343434,\n",
       "          423980276, 1297810826,  138917012,   85776606,  522731628,\n",
       "          220575514,  750451174], dtype=uint64)}]"
      ]
     },
     "execution_count": 20,
     "metadata": {},
     "output_type": "execute_result"
    }
   ],
   "source": [
    "cc100_embedded.take(5)"
   ]
  },
  {
   "cell_type": "markdown",
   "id": "183a2547",
   "metadata": {},
   "source": [
    "## Local Sensitivity Hash"
   ]
  },
  {
   "cell_type": "code",
   "execution_count": 21,
   "id": "6f255f36",
   "metadata": {},
   "outputs": [
    {
     "data": {
      "text/plain": [
       "18446744069414584320"
      ]
     },
     "execution_count": 21,
     "metadata": {},
     "output_type": "execute_result"
    }
   ],
   "source": [
    "MAX_HASH.byteswap()"
   ]
  },
  {
   "cell_type": "code",
   "execution_count": 33,
   "id": "2bc2ee3c",
   "metadata": {},
   "outputs": [],
   "source": [
    "def lsh(entry: dict, b: int = 16):\n",
    "    rows = entry['signature'].shape[0]\n",
    "    r = rows // b\n",
    "    bands = [\n",
    "        tuple(entry['signature'][start:start+r])\n",
    "        for start in range(0, rows - r + 1, r)\n",
    "    ]\n",
    "    return [{\n",
    "        'id': entry['id'],\n",
    "        'band_idx': band_idx,\n",
    "        'band': band\n",
    "    } for band_idx, band in enumerate(bands)]"
   ]
  },
  {
   "cell_type": "code",
   "execution_count": 34,
   "id": "fb562c5f",
   "metadata": {},
   "outputs": [],
   "source": [
    "cc100_lsh = cc100_embedded.flatMap(lsh)"
   ]
  },
  {
   "cell_type": "code",
   "execution_count": 35,
   "id": "3f63a5b7",
   "metadata": {},
   "outputs": [
    {
     "data": {
      "text/plain": [
       "[{'id': '0', 'band_idx': 0, 'band': (443099278, 1902230491)},\n",
       " {'id': '0', 'band_idx': 1, 'band': (400808915, 632125985)},\n",
       " {'id': '0', 'band_idx': 2, 'band': (712493998, 211675878)},\n",
       " {'id': '0', 'band_idx': 3, 'band': (178638339, 248196949)},\n",
       " {'id': '0', 'band_idx': 4, 'band': (725912459, 761080947)}]"
      ]
     },
     "execution_count": 35,
     "metadata": {},
     "output_type": "execute_result"
    }
   ],
   "source": [
    "cc100_lsh.take(5)"
   ]
  },
  {
   "cell_type": "markdown",
   "id": "4bde0d68",
   "metadata": {},
   "source": [
    "## Bucketing"
   ]
  },
  {
   "cell_type": "code",
   "execution_count": 36,
   "id": "80623401",
   "metadata": {},
   "outputs": [],
   "source": [
    "def generate_edges(nodes: list[int]):\n",
    "    if len(nodes) <= 1:\n",
    "        return []\n",
    "    \n",
    "    min_node = min(nodes)\n",
    "    return [\n",
    "        (min_node, node)\n",
    "        for node in nodes\n",
    "        if node != min_node\n",
    "    ]"
   ]
  },
  {
   "cell_type": "code",
   "execution_count": 47,
   "id": "340e53e5",
   "metadata": {},
   "outputs": [],
   "source": [
    "edges = cc100_lsh \\\n",
    "    .groupBy(lambda x: (x['band_idx'], x['band'])) \\\n",
    "    .flatMap(lambda x: generate_edges([n['id'] for n in x[1]])) \\\n",
    "    .distinct() \\\n",
    "    .cache()"
   ]
  },
  {
   "cell_type": "code",
   "execution_count": 48,
   "id": "dea3390b",
   "metadata": {
    "scrolled": false
   },
   "outputs": [
    {
     "data": {
      "text/plain": [
       "[('25', '52'), ('129', '151'), ('192', '955'), ('194', '479'), ('233', '727')]"
      ]
     },
     "execution_count": 48,
     "metadata": {},
     "output_type": "execute_result"
    }
   ],
   "source": [
    "edges.take(5)"
   ]
  },
  {
   "cell_type": "markdown",
   "id": "ef6f205b",
   "metadata": {},
   "source": [
    "## Duplicates"
   ]
  },
  {
   "cell_type": "code",
   "execution_count": 50,
   "id": "6d91385b",
   "metadata": {},
   "outputs": [],
   "source": [
    "def take_ids(dataset, ids: list[str]):\n",
    "    matches = []\n",
    "    for item in dataset:\n",
    "        if item['id'] in ids:\n",
    "            matches.append(item)\n",
    "    return matches"
   ]
  },
  {
   "cell_type": "code",
   "execution_count": 53,
   "id": "0ea2cb2f",
   "metadata": {},
   "outputs": [
    {
     "name": "stdout",
     "output_type": "stream",
     "text": [
      "('25', '52')\n",
      "{'id': '25', 'text': 'Пріоритетні напрямки розвитку гімназії №3 \"Сузір\"я\"\\n'}\n",
      "{'id': '52', 'text': 'Блоги вчителів початкової школи гімназії №3 \"Сузір\"я\"\\n'}\n",
      "\n",
      "('129', '151')\n",
      "{'id': '129', 'text': '1. Якщо певні сімейні відносини не врегульовані цим Кодексом або домовленістю (договором) сторін, до них застосовуються норми цього Кодексу, які регулюють подібні відносини (аналогія закону).\\n'}\n",
      "{'id': '151', 'text': '2. Суд застосовує способи захисту, які встановлені законом або домовленістю (договором) сторін.\\n'}\n",
      "\n",
      "('192', '955')\n",
      "{'id': '192', 'text': '5. У шлюбі між собою не можуть бути усиновлювач та усиновлена ним дитина.\\n'}\n",
      "{'id': '955', 'text': '4. Особи, які не перебувають у шлюбі між собою, не можуть усиновити одну і ту ж дитину.\\n'}\n",
      "\n",
      "('194', '479')\n",
      "{'id': '194', 'text': 'Стаття 27. Значення державної реєстрації шлюбу\\n'}\n",
      "{'id': '479', 'text': '1. Якщо шлюбний договір укладено до реєстрації шлюбу, він набирає чинності у день реєстрації шлюбу.\\n'}\n",
      "\n",
      "('233', '727')\n",
      "{'id': '233', 'text': 'Стаття 36. Правові наслідки шлюбу\\n'}\n",
      "{'id': '727', 'text': 'Стаття 162. Правові наслідки протиправної поведінки одного з батьків або іншої особи при визначенні місця проживання малолітньої дитини\\n'}\n",
      "\n"
     ]
    }
   ],
   "source": [
    "for ids in edges.take(5):\n",
    "    print(ids)\n",
    "    docs = take_ids(cc100, ids)\n",
    "    for doc in docs:\n",
    "        print(doc)\n",
    "    print()"
   ]
  },
  {
   "cell_type": "code",
   "execution_count": null,
   "id": "a4abb796",
   "metadata": {},
   "outputs": [],
   "source": []
  }
 ],
 "metadata": {
  "kernelspec": {
   "display_name": "main",
   "language": "python",
   "name": "main"
  },
  "language_info": {
   "codemirror_mode": {
    "name": "ipython",
    "version": 3
   },
   "file_extension": ".py",
   "mimetype": "text/x-python",
   "name": "python",
   "nbconvert_exporter": "python",
   "pygments_lexer": "ipython3",
   "version": "3.10.12"
  }
 },
 "nbformat": 4,
 "nbformat_minor": 5
}
